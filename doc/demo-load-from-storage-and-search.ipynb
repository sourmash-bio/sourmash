{
 "cells": [
  {
   "cell_type": "code",
   "execution_count": 1,
   "metadata": {},
   "outputs": [],
   "source": [
    "import shutil, os\n",
    "from io import StringIO\n",
    "\n",
    "import sourmash\n",
    "from sourmash.sbt_storage import FSStorage, ZipStorage\n",
    "from sourmash.manifest import CollectionManifest\n",
    "from sourmash.signature import load_signatures\n",
    "from sourmash.sourmash_args import SaveSignaturesToLocation"
   ]
  },
  {
   "cell_type": "code",
   "execution_count": 2,
   "metadata": {},
   "outputs": [],
   "source": [
    "# load some demo signatures\n",
    "sig1 = sourmash.load_one_signature('akkermansia.fa.sig', ksize=31)\n",
    "sig2 = sourmash.load_one_signature('shew_os185.fa.sig', ksize=31)\n",
    "sig3 = sourmash.load_one_signature('shew_os223.fa.sig', ksize=31)"
   ]
  },
  {
   "cell_type": "code",
   "execution_count": 3,
   "metadata": {},
   "outputs": [
    {
     "name": "stdout",
     "output_type": "stream",
     "text": [
      "saved 3 signatures to /tmp/zip-store2.zip\n"
     ]
    }
   ],
   "source": [
    "# create a zipfile with the signatures\n",
    "try:\n",
    "    os.remove('/tmp/zip-store2.zip')\n",
    "except FileNotFoundError:\n",
    "    pass\n",
    "\n",
    "with SaveSignaturesToLocation('/tmp/zip-store2.zip') as savesig:\n",
    "    savesig.add(sig1)\n",
    "    savesig.add(sig2)\n",
    "    savesig.add(sig3)\n",
    "    \n",
    "    print(f\"saved {len(savesig)} signatures to {savesig.location}\")"
   ]
  },
  {
   "cell_type": "code",
   "execution_count": 4,
   "metadata": {},
   "outputs": [],
   "source": [
    "#\n",
    "# define two utility functions. the second one, search_list_of_sigs,\n",
    "# is what we want to do in parallel and on demand; the first one, load_sig,\n",
    "# is the new functionality that we need in rust - that is, support for loading\n",
    "# from a Storage.\n",
    "#\n",
    "\n",
    "def load_sig(storage, iloc, md5sum):\n",
    "    # load signature(s) from a location in storage, return those that match md5sum\n",
    "    # note, there _should_ be only one match to the given md5sum,\n",
    "    # but it is not 100% guaranteed so :shrug:\n",
    "    sig_json_data = storage.load(iloc)          # <-- this is the only thing not available in Rust\n",
    "    for sigobj in load_signatures(sig_json_data):\n",
    "        if sigobj.md5sum() == md5sum:\n",
    "            yield sigobj\n",
    "\n",
    "def search_list_of_sigs(query, storage, list_of_sigs, threshold):\n",
    "    # given a list of signatures identified by (iloc, md5sum) pairs in list_of_sigs,\n",
    "    # load these signatures from storage,\n",
    "    # compare them to query,\n",
    "    # and return those with similarities higher than threshold\n",
    "    #\n",
    "    # in theory this could be done in parallel, but in Python there's not much point\n",
    "\n",
    "    for (iloc, md5sum) in list_of_sigs:\n",
    "        for sigobj in load_sig(storage, iloc, md5sum):\n",
    "            if query.similarity(sigobj) >= threshold:\n",
    "                yield iloc, md5sum\n",
    "                "
   ]
  },
  {
   "cell_type": "code",
   "execution_count": 5,
   "metadata": {},
   "outputs": [
    {
     "data": {
      "text/plain": [
       "[('signatures/6822e0b7f2b21030699fbb98c698e71c.sig.gz',\n",
       "  '6822e0b7f2b21030699fbb98c698e71c'),\n",
       " ('signatures/b47b13ef3781433fc3531fd502f723a4.sig.gz',\n",
       "  'b47b13ef3781433fc3531fd502f723a4'),\n",
       " ('signatures/ae6659f6804482c9d5e739e554a48563.sig.gz',\n",
       "  'ae6659f6804482c9d5e739e554a48563')]"
      ]
     },
     "execution_count": 5,
     "metadata": {},
     "output_type": "execute_result"
    }
   ],
   "source": [
    "# construct a list of signatures to search, identified by (iloc, md5sum) tuples\n",
    "# this can be done in a variety of ways, including using picklists.\n",
    "# here we are using the manifest to get everything in the storage, but it may be a subset\n",
    "\n",
    "# load storage and manifest\n",
    "storage = ZipStorage('/tmp/zip-store2.zip')\n",
    "manifest = CollectionManifest.load_from_storage(storage)\n",
    "\n",
    "# construct list of signatures\n",
    "list_of_sigs = [ (d['internal_location'], d['md5']) for d in manifest._select() ]\n",
    "\n",
    "list_of_sigs"
   ]
  },
  {
   "cell_type": "code",
   "execution_count": 6,
   "metadata": {},
   "outputs": [
    {
     "data": {
      "text/plain": [
       "[('signatures/b47b13ef3781433fc3531fd502f723a4.sig.gz',\n",
       "  'b47b13ef3781433fc3531fd502f723a4'),\n",
       " ('signatures/ae6659f6804482c9d5e739e554a48563.sig.gz',\n",
       "  'ae6659f6804482c9d5e739e554a48563')]"
      ]
     },
     "execution_count": 6,
     "metadata": {},
     "output_type": "execute_result"
    }
   ],
   "source": [
    "# now, search this list of signatures.\n",
    "res = search_list_of_sigs(sig2, storage, list_of_sigs, 0.01)\n",
    "\n",
    "list(res)"
   ]
  },
  {
   "cell_type": "code",
   "execution_count": null,
   "metadata": {},
   "outputs": [],
   "source": []
  }
 ],
 "metadata": {
  "kernelspec": {
   "display_name": "Python (myenv)",
   "language": "python",
   "name": "myenv"
  },
  "language_info": {
   "codemirror_mode": {
    "name": "ipython",
    "version": 3
   },
   "file_extension": ".py",
   "mimetype": "text/x-python",
   "name": "python",
   "nbconvert_exporter": "python",
   "pygments_lexer": "ipython3",
   "version": "3.7.6"
  }
 },
 "nbformat": 4,
 "nbformat_minor": 4
}
