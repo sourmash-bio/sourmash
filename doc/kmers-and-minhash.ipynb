{
 "cells": [
  {
   "cell_type": "markdown",
   "metadata": {},
   "source": [
    "# An introduction to k-mers for genome comparison and analysis"
   ]
  },
  {
   "cell_type": "markdown",
   "metadata": {},
   "source": [
    "k-mers provide sensitive and specific methods for comparing and analyzing genomes.\n",
    "\n",
    "This notebook provides pure Python implementations of some of the basic k-mer comparison techniques implemented in sourmash, including hash-based subsampling techniques.\n",
    "\n",
    "### Running this notebook.\n",
    "\n",
    "You can run this notebook interactively via mybinder; click on this button:\n",
    "[![Binder](https://mybinder.org/badge_logo.svg)](https://mybinder.org/v2/gh/dib-lab/sourmash/latest?filepath=doc%2Fkmers-and-minhash.ipynb)\n",
    "\n",
    "A rendered version of this notebook is available at [sourmash.readthedocs.io](https://sourmash.readthedocs.io) under \"Tutorials and notebooks\".\n",
    "\n",
    "You can also get this notebook from the [doc/ subdirectory of the sourmash github repository](https://github.com/dib-lab/sourmash/tree/latest/doc). See [binder/environment.yaml](https://github.com/dib-lab/sourmash/blob/latest/binder/environment.yml) for installation dependencies.\n",
    "\n",
    "### What is this?\n",
    "\n",
    "This is a Jupyter Notebook using Python 3. If you are running this via [binder](https://mybinder.org), you can use Shift-ENTER to run cells, and double click on code cells to edit them.\n",
    "\n",
    "Contact: C. Titus Brown, ctbrown@ucdavis.edu. Please [file issues on GitHub](https://github.com/dib-lab/sourmash/issues/) if you have any questions or comments!"
   ]
  },
  {
   "cell_type": "markdown",
   "metadata": {},
   "source": [
    "## Calculating Jaccard similarity and containment\n",
    "\n",
    "Given any two collections of k-mers, we can calculate similarity and containment using the union and intersection functionality in Python."
   ]
  },
  {
   "cell_type": "code",
   "execution_count": 1,
   "metadata": {},
   "outputs": [],
   "source": [
    "def jaccard_similarity(a, b):\n",
    "    a = set(a)\n",
    "    b = set(b)\n",
    "    \n",
    "    intersection = len(a.intersection(b))\n",
    "    union = len(a.union(b))\n",
    "    \n",
    "    return intersection / union"
   ]
  },
  {
   "cell_type": "code",
   "execution_count": 2,
   "metadata": {},
   "outputs": [],
   "source": [
    "def jaccard_containment(a, b):\n",
    "    a = set(a)\n",
    "    b = set(b)\n",
    "    \n",
    "    intersection = len(a.intersection(b))\n",
    "    \n",
    "    return intersection / len(a)"
   ]
  },
  {
   "cell_type": "markdown",
   "metadata": {},
   "source": [
    "## Let's try these functions out on some simple examples!"
   ]
  },
  {
   "cell_type": "code",
   "execution_count": 3,
   "metadata": {},
   "outputs": [],
   "source": [
    "a = ['ATGG', 'AACC']\n",
    "b = ['ATGG', 'CACA']\n",
    "c = ['ATGC', 'CACA']"
   ]
  },
  {
   "cell_type": "code",
   "execution_count": 4,
   "metadata": {},
   "outputs": [
    {
     "data": {
      "text/plain": [
       "1.0"
      ]
     },
     "execution_count": 4,
     "metadata": {},
     "output_type": "execute_result"
    }
   ],
   "source": [
    "jaccard_similarity(a, a)"
   ]
  },
  {
   "cell_type": "code",
   "execution_count": 5,
   "metadata": {},
   "outputs": [
    {
     "data": {
      "text/plain": [
       "1.0"
      ]
     },
     "execution_count": 5,
     "metadata": {},
     "output_type": "execute_result"
    }
   ],
   "source": [
    "jaccard_containment(a, a)"
   ]
  },
  {
   "cell_type": "code",
   "execution_count": 6,
   "metadata": {},
   "outputs": [
    {
     "data": {
      "text/plain": [
       "0.3333333333333333"
      ]
     },
     "execution_count": 6,
     "metadata": {},
     "output_type": "execute_result"
    }
   ],
   "source": [
    "jaccard_similarity(b, a)"
   ]
  },
  {
   "cell_type": "code",
   "execution_count": 7,
   "metadata": {},
   "outputs": [
    {
     "data": {
      "text/plain": [
       "0.0"
      ]
     },
     "execution_count": 7,
     "metadata": {},
     "output_type": "execute_result"
    }
   ],
   "source": [
    "jaccard_similarity(a, c)"
   ]
  },
  {
   "cell_type": "code",
   "execution_count": 8,
   "metadata": {},
   "outputs": [
    {
     "data": {
      "text/plain": [
       "0.5"
      ]
     },
     "execution_count": 8,
     "metadata": {},
     "output_type": "execute_result"
    }
   ],
   "source": [
    "jaccard_containment(b, a)"
   ]
  },
  {
   "cell_type": "code",
   "execution_count": 9,
   "metadata": {},
   "outputs": [
    {
     "data": {
      "text/plain": [
       "<matplotlib_venn._common.VennDiagram at 0x10cb677b8>"
      ]
     },
     "execution_count": 9,
     "metadata": {},
     "output_type": "execute_result"
    },
    {
     "data": {
      "image/png": "[encoded data removed]",
      "text/plain": [
       "<Figure size 432x288 with 1 Axes>"
      ]
     },
     "metadata": {},
     "output_type": "display_data"
    }
   ],
   "source": [
    "%matplotlib inline\n",
    "from matplotlib_venn import venn2, venn3\n",
    "\n",
    "venn2([set(a), set(b)])"
   ]
  },
  {
   "cell_type": "code",
   "execution_count": 10,
   "metadata": {},
   "outputs": [
    {
     "data": {
      "text/plain": [
       "<matplotlib_venn._common.VennDiagram at 0x111e74c18>"
      ]
     },
     "execution_count": 10,
     "metadata": {},
     "output_type": "execute_result"
    },
    {
     "data": {
      "image/png": "[encoded data removed]",
      "text/plain": [
       "<Figure size 432x288 with 1 Axes>"
      ]
     },
     "metadata": {},
     "output_type": "display_data"
    }
   ],
   "source": [
    "venn3([set(a), set(b), set(c)])"
   ]
  },
  {
   "cell_type": "markdown",
   "metadata": {},
   "source": [
    "## Calculating k-mers from DNA sequences\n",
    "\n",
    "To extract k-mers from DNA sequences, we walk over the sequence with a sliding window:"
   ]
  },
  {
   "cell_type": "code",
   "execution_count": 11,
   "metadata": {},
   "outputs": [],
   "source": [
    "def build_kmers(sequence, ksize):\n",
    "    kmers = []\n",
    "    n_kmers = len(sequence) - ksize + 1\n",
    "    \n",
    "    for i in range(n_kmers):\n",
    "        kmer = sequence[i:i + ksize]\n",
    "        kmers.append(kmer)\n",
    "        \n",
    "    return kmers"
   ]
  },
  {
   "cell_type": "code",
   "execution_count": 12,
   "metadata": {},
   "outputs": [
    {
     "data": {
      "text/plain": [
       "['ATGGACCAGATATAGGGAGAG',\n",
       " 'TGGACCAGATATAGGGAGAGC',\n",
       " 'GGACCAGATATAGGGAGAGCC',\n",
       " 'GACCAGATATAGGGAGAGCCA',\n",
       " 'ACCAGATATAGGGAGAGCCAG',\n",
       " 'CCAGATATAGGGAGAGCCAGG',\n",
       " 'CAGATATAGGGAGAGCCAGGT',\n",
       " 'AGATATAGGGAGAGCCAGGTA',\n",
       " 'GATATAGGGAGAGCCAGGTAG',\n",
       " 'ATATAGGGAGAGCCAGGTAGG',\n",
       " 'TATAGGGAGAGCCAGGTAGGA',\n",
       " 'ATAGGGAGAGCCAGGTAGGAC',\n",
       " 'TAGGGAGAGCCAGGTAGGACA']"
      ]
     },
     "execution_count": 12,
     "metadata": {},
     "output_type": "execute_result"
    }
   ],
   "source": [
    "build_kmers('ATGGACCAGATATAGGGAGAGCCAGGTAGGACA', 21)"
   ]
  },
  {
   "cell_type": "markdown",
   "metadata": {},
   "source": [
    "In the k-mers that are output, you can see how the sequence shifts to the right - look at the pattern in the middle.\n",
    "\n",
    "So, now, you can compare two sequences!"
   ]
  },
  {
   "cell_type": "code",
   "execution_count": 13,
   "metadata": {},
   "outputs": [],
   "source": [
    "seq1 = 'ATGGACCAGATATAGGGAGAGCCAGGTAGGACA'\n",
    "seq2 = 'ATGGACCAGATATTGGGAGAGCCGGGTAGGACA'\n",
    "# differences:       ^         ^"
   ]
  },
  {
   "cell_type": "code",
   "execution_count": 14,
   "metadata": {},
   "outputs": [
    {
     "name": "stdout",
     "output_type": "stream",
     "text": [
      "10 0.09090909090909091\n"
     ]
    }
   ],
   "source": [
    "K = 10\n",
    "kmers1 = build_kmers(seq1, K)\n",
    "kmers2 = build_kmers(seq2, K)\n",
    "\n",
    "print(K, jaccard_similarity(kmers1, kmers2))"
   ]
  },
  {
   "cell_type": "markdown",
   "metadata": {},
   "source": [
    "## Reading k-mers in from a file\n",
    "\n",
    "In practice, we often need to work with 100s of thousands of k-mers, and this means loading them in from sequences in files.\n",
    "\n",
    "There are three cut-down genome files in the `genomes/` directory that we will use below:\n",
    "\n",
    "```\n",
    "akkermansia.fa\n",
    "shew_os185.fa\n",
    "shew_os223.fa\n",
    "```\n",
    "The latter two are two strains of *Shewanella baltica*, and the first one is an unrelated genome *Akkermansia muciniphila*."
   ]
  },
  {
   "cell_type": "code",
   "execution_count": 15,
   "metadata": {},
   "outputs": [],
   "source": [
    "import screed # a library for reading in FASTA/FASTQ\n",
    "\n",
    "def read_kmers_from_file(filename, ksize):\n",
    "    all_kmers = []\n",
    "    for record in screed.open(filename):\n",
    "        sequence = record.sequence\n",
    "        \n",
    "        kmers = build_kmers(sequence, ksize)\n",
    "        all_kmers += kmers\n",
    "\n",
    "    return all_kmers"
   ]
  },
  {
   "cell_type": "code",
   "execution_count": 16,
   "metadata": {},
   "outputs": [],
   "source": [
    "akker_kmers = read_kmers_from_file('genomes/akkermansia.fa', 31)"
   ]
  },
  {
   "cell_type": "code",
   "execution_count": 17,
   "metadata": {},
   "outputs": [
    {
     "data": {
      "text/plain": [
       "['AAATCTTATAAAATAACCACATAACTTAAAA',\n",
       " 'AATCTTATAAAATAACCACATAACTTAAAAA',\n",
       " 'ATCTTATAAAATAACCACATAACTTAAAAAG',\n",
       " 'TCTTATAAAATAACCACATAACTTAAAAAGA',\n",
       " 'CTTATAAAATAACCACATAACTTAAAAAGAA']"
      ]
     },
     "execution_count": 17,
     "metadata": {},
     "output_type": "execute_result"
    }
   ],
   "source": [
    "akker_kmers[:5]"
   ]
  },
  {
   "cell_type": "code",
   "execution_count": 18,
   "metadata": {},
   "outputs": [
    {
     "name": "stdout",
     "output_type": "stream",
     "text": [
      "499970\n"
     ]
    }
   ],
   "source": [
    "print(len(akker_kmers))"
   ]
  },
  {
   "cell_type": "code",
   "execution_count": 19,
   "metadata": {},
   "outputs": [],
   "source": [
    "shew1_kmers = read_kmers_from_file('genomes/shew_os185.fa', 31)\n",
    "shew2_kmers = read_kmers_from_file('genomes/shew_os223.fa', 31)"
   ]
  },
  {
   "cell_type": "markdown",
   "metadata": {},
   "source": [
    "We can see the relationship between these three like so:"
   ]
  },
  {
   "cell_type": "code",
   "execution_count": 20,
   "metadata": {},
   "outputs": [
    {
     "name": "stdout",
     "output_type": "stream",
     "text": [
      "akker vs shew1 0.0\n",
      "akker vs shew2 0.0\n",
      "shew1 vs shew2 0.23675152210020398\n"
     ]
    }
   ],
   "source": [
    "print('akker vs shew1', jaccard_similarity(akker_kmers, shew1_kmers))\n",
    "print('akker vs shew2', jaccard_similarity(akker_kmers, shew2_kmers))\n",
    "print('shew1 vs shew2', jaccard_similarity(shew1_kmers, shew2_kmers))"
   ]
  },
  {
   "cell_type": "code",
   "execution_count": 21,
   "metadata": {},
   "outputs": [
    {
     "name": "stdout",
     "output_type": "stream",
     "text": [
      "akker vs shew1 0.0\n",
      "akker vs shew2 0.0\n",
      "shew1 vs shew2 0.38397187523995907\n"
     ]
    }
   ],
   "source": [
    "print('akker vs shew1', jaccard_containment(akker_kmers, shew1_kmers))\n",
    "print('akker vs shew2', jaccard_containment(akker_kmers, shew2_kmers))\n",
    "print('shew1 vs shew2', jaccard_containment(shew1_kmers, shew2_kmers))"
   ]
  },
  {
   "cell_type": "code",
   "execution_count": 22,
   "metadata": {},
   "outputs": [
    {
     "data": {
      "text/plain": [
       "<matplotlib_venn._common.VennDiagram at 0x11a2e7b00>"
      ]
     },
     "execution_count": 22,
     "metadata": {},
     "output_type": "execute_result"
    },
    {
     "data": {
      "image/png": "[encoded data removed]",
      "text/plain": [
       "<Figure size 432x288 with 1 Axes>"
      ]
     },
     "metadata": {},
     "output_type": "display_data"
    }
   ],
   "source": [
    "venn3([set(akker_kmers), set(shew1_kmers), set(shew2_kmers)])"
   ]
  },
  {
   "cell_type": "markdown",
   "metadata": {},
   "source": [
    "## Let's hash!"
   ]
  },
  {
   "cell_type": "markdown",
   "metadata": {},
   "source": [
    "## Choose a hash function!\n",
    "\n",
    "We need to pick a hash function that takes DNA k-mers and converts them into numbers.\n",
    "\n",
    "Both the [mash](https://mash.readthedocs.io/en/latest/) software for MinHash, and the [sourmash](https://sourmash.readthedocs.io) software for modulo and MinHash, use MurmurHash:\n",
    "\n",
    "https://en.wikipedia.org/wiki/MurmurHash\n",
    "\n",
    "this is implemented in the 'mmh3' library in Python.\n",
    "\n",
    "The other thing we need to do here is take into account the fact that DNA is double stranded, and so\n",
    "\n",
    "```\n",
    "hash_kmer('ATGG')\n",
    "```\n",
    "should be equivalent to\n",
    "```\n",
    "hash_kmer('CCAT')\n",
    "```\n",
    "Following mash's lead, for every input k-mer we will choose a *canonical* k-mer that is the lesser of the k-mer and its reverse complement."
   ]
  },
  {
   "cell_type": "code",
   "execution_count": 23,
   "metadata": {},
   "outputs": [],
   "source": [
    "import mmh3\n",
    "\n",
    "def hash_kmer(kmer):\n",
    "    # calculate the reverse complement\n",
    "    rc_kmer = screed.rc(kmer)\n",
    "    \n",
    "    # determine whether original k-mer or reverse complement is lesser\n",
    "    if kmer < rc_kmer:\n",
    "        canonical_kmer = kmer\n",
    "    else:\n",
    "        canonical_kmer = rc_kmer\n",
    "        \n",
    "    # calculate murmurhash using a hash seed of 42\n",
    "    hash = mmh3.hash64(canonical_kmer, 42)[0]\n",
    "    if hash < 0: hash += 2**64\n",
    "        \n",
    "    # done\n",
    "    return hash"
   ]
  },
  {
   "cell_type": "markdown",
   "metadata": {},
   "source": [
    "This is now a function that we can use to turn any DNA \"word\" into a number:"
   ]
  },
  {
   "cell_type": "code",
   "execution_count": 24,
   "metadata": {},
   "outputs": [
    {
     "data": {
      "text/plain": [
       "13663093258475204077"
      ]
     },
     "execution_count": 24,
     "metadata": {},
     "output_type": "execute_result"
    }
   ],
   "source": [
    "hash_kmer('ATGGC')"
   ]
  },
  {
   "cell_type": "markdown",
   "metadata": {},
   "source": [
    "The same input word always returns the same number:"
   ]
  },
  {
   "cell_type": "code",
   "execution_count": 25,
   "metadata": {},
   "outputs": [
    {
     "data": {
      "text/plain": [
       "13663093258475204077"
      ]
     },
     "execution_count": 25,
     "metadata": {},
     "output_type": "execute_result"
    }
   ],
   "source": [
    "hash_kmer('ATGGC')"
   ]
  },
  {
   "cell_type": "markdown",
   "metadata": {},
   "source": [
    "as does its reverse complement:"
   ]
  },
  {
   "cell_type": "code",
   "execution_count": 26,
   "metadata": {},
   "outputs": [
    {
     "data": {
      "text/plain": [
       "13663093258475204077"
      ]
     },
     "execution_count": 26,
     "metadata": {},
     "output_type": "execute_result"
    }
   ],
   "source": [
    "hash_kmer('GCCAT')"
   ]
  },
  {
   "cell_type": "markdown",
   "metadata": {},
   "source": [
    "and nearby words return very different numbers:"
   ]
  },
  {
   "cell_type": "code",
   "execution_count": 27,
   "metadata": {},
   "outputs": [
    {
     "data": {
      "text/plain": [
       "1777382721305265773"
      ]
     },
     "execution_count": 27,
     "metadata": {},
     "output_type": "execute_result"
    }
   ],
   "source": [
    "hash_kmer('GCCAA')"
   ]
  },
  {
   "cell_type": "markdown",
   "metadata": {},
   "source": [
    "## Note that hashing collections of k-mers doesn't change Jaccard calculations:"
   ]
  },
  {
   "cell_type": "code",
   "execution_count": 28,
   "metadata": {},
   "outputs": [],
   "source": [
    "def hash_kmers(kmers):\n",
    "    hashes = []\n",
    "    for kmer in kmers:\n",
    "        hashes.append(hash_kmer(kmer))\n",
    "    return hashes"
   ]
  },
  {
   "cell_type": "code",
   "execution_count": 29,
   "metadata": {},
   "outputs": [],
   "source": [
    "shew1_hashes = hash_kmers(shew1_kmers)\n",
    "shew2_hashes = hash_kmers(shew2_kmers)"
   ]
  },
  {
   "cell_type": "code",
   "execution_count": 30,
   "metadata": {},
   "outputs": [
    {
     "name": "stdout",
     "output_type": "stream",
     "text": [
      "0.23675152210020398\n"
     ]
    }
   ],
   "source": [
    "print(jaccard_similarity(shew1_kmers, shew2_kmers))"
   ]
  },
  {
   "cell_type": "code",
   "execution_count": 31,
   "metadata": {},
   "outputs": [
    {
     "name": "stdout",
     "output_type": "stream",
     "text": [
      "0.2371520123045373\n"
     ]
    }
   ],
   "source": [
    "print(jaccard_similarity(shew1_hashes, shew2_hashes))"
   ]
  },
  {
   "cell_type": "markdown",
   "metadata": {},
   "source": [
    "(ok, it changes it a little, because of the canonical k-mer calculation!)"
   ]
  },
  {
   "cell_type": "markdown",
   "metadata": {},
   "source": [
    "## Implementing subsampling with modulo hashing\n",
    "\n",
    "We are now ready to implement k-mer subsampling with modulo hash.\n",
    "\n",
    "We need to pick a sampling rate, and know the maximum possible hash value.\n",
    "\n",
    "For a sampling rate, let's start with 1000.\n",
    "\n",
    "The MurmurHash function turns k-mers into numbers between 0 and `2**64 - 1` (the maximum 64-bit number).\n",
    "\n",
    "Let's define these as variables:"
   ]
  },
  {
   "cell_type": "code",
   "execution_count": 32,
   "metadata": {},
   "outputs": [],
   "source": [
    "scaled = 1000\n",
    "MAX_HASH = 2**64"
   ]
  },
  {
   "cell_type": "markdown",
   "metadata": {},
   "source": [
    "Now, choose the range of hash values that we'll keep."
   ]
  },
  {
   "cell_type": "code",
   "execution_count": 33,
   "metadata": {},
   "outputs": [
    {
     "name": "stdout",
     "output_type": "stream",
     "text": [
      "1.844674407370955e+16\n"
     ]
    }
   ],
   "source": [
    "keep_below = MAX_HASH / scaled\n",
    "print(keep_below)"
   ]
  },
  {
   "cell_type": "markdown",
   "metadata": {},
   "source": [
    "and write a filter function:"
   ]
  },
  {
   "cell_type": "code",
   "execution_count": 34,
   "metadata": {},
   "outputs": [],
   "source": [
    "def subsample_modulo(kmers):\n",
    "    keep = []\n",
    "    for kmer in kmers:\n",
    "        if hash_kmer(kmer) < keep_below:\n",
    "            keep.append(kmer)\n",
    "        # otherwise, discard\n",
    "        \n",
    "    return keep"
   ]
  },
  {
   "cell_type": "markdown",
   "metadata": {},
   "source": [
    "## Now let's apply this to our big collections of k-mers!"
   ]
  },
  {
   "cell_type": "code",
   "execution_count": 35,
   "metadata": {},
   "outputs": [],
   "source": [
    "akker_sub = subsample_modulo(akker_kmers)\n",
    "shew1_sub = subsample_modulo(shew1_kmers)\n",
    "shew2_sub = subsample_modulo(shew2_kmers)"
   ]
  },
  {
   "cell_type": "code",
   "execution_count": 36,
   "metadata": {},
   "outputs": [
    {
     "name": "stdout",
     "output_type": "stream",
     "text": [
      "499970 502\n",
      "499970 513\n",
      "499970 503\n"
     ]
    }
   ],
   "source": [
    "print(len(akker_kmers), len(akker_sub))\n",
    "print(len(shew1_kmers), len(shew1_sub))\n",
    "print(len(shew2_kmers), len(shew2_sub))"
   ]
  },
  {
   "cell_type": "markdown",
   "metadata": {},
   "source": [
    "So we go from ~500,000 k-mers to ~500 hashes! Do the Jaccard calculations change??"
   ]
  },
  {
   "cell_type": "code",
   "execution_count": 37,
   "metadata": {},
   "outputs": [
    {
     "name": "stdout",
     "output_type": "stream",
     "text": [
      "akker vs akker, total 1.0\n",
      "akker vs akker, sub 1.0\n"
     ]
    }
   ],
   "source": [
    "print('akker vs akker, total', jaccard_similarity(akker_kmers, akker_kmers))\n",
    "print('akker vs akker, sub', jaccard_similarity(akker_sub, akker_sub))"
   ]
  },
  {
   "cell_type": "code",
   "execution_count": 38,
   "metadata": {},
   "outputs": [
    {
     "name": "stdout",
     "output_type": "stream",
     "text": [
      "akker vs shew1, total 0.0\n",
      "akker vs shew1, sub 0.0\n"
     ]
    }
   ],
   "source": [
    "print('akker vs shew1, total', jaccard_similarity(akker_kmers, shew1_kmers))\n",
    "print('akker vs shew1, sub', jaccard_similarity(akker_sub, shew1_sub))"
   ]
  },
  {
   "cell_type": "code",
   "execution_count": 39,
   "metadata": {},
   "outputs": [
    {
     "name": "stdout",
     "output_type": "stream",
     "text": [
      "shew1 vs shew2, total 0.23675152210020398\n",
      "shew1 vs shew2, sub 0.2281795511221945\n"
     ]
    }
   ],
   "source": [
    "print('shew1 vs shew2, total', jaccard_similarity(shew1_kmers, shew2_kmers))\n",
    "print('shew1 vs shew2, sub', jaccard_similarity(shew1_sub, shew2_sub))"
   ]
  },
  {
   "cell_type": "markdown",
   "metadata": {},
   "source": [
    "And you can see that the numbers are different, but not very much - the Jaccard similarity is being *estimated*, so it is not exact but it is close."
   ]
  },
  {
   "cell_type": "markdown",
   "metadata": {},
   "source": [
    "## Let's visualize --"
   ]
  },
  {
   "cell_type": "code",
   "execution_count": 40,
   "metadata": {},
   "outputs": [
    {
     "data": {
      "text/plain": [
       "<matplotlib_venn._common.VennDiagram at 0x123ede358>"
      ]
     },
     "execution_count": 40,
     "metadata": {},
     "output_type": "execute_result"
    },
    {
     "data": {
      "image/png": "[encoded data removed]",
      "text/plain": [
       "<Figure size 432x288 with 1 Axes>"
      ]
     },
     "metadata": {},
     "output_type": "display_data"
    }
   ],
   "source": [
    "venn3([set(akker_kmers), set(shew1_kmers), set(shew2_kmers)])"
   ]
  },
  {
   "cell_type": "code",
   "execution_count": 41,
   "metadata": {},
   "outputs": [
    {
     "data": {
      "text/plain": [
       "<matplotlib_venn._common.VennDiagram at 0x1252f0e48>"
      ]
     },
     "execution_count": 41,
     "metadata": {},
     "output_type": "execute_result"
    },
    {
     "data": {
      "image/png": "[encoded data removed]",
      "text/plain": [
       "<Figure size 432x288 with 1 Axes>"
      ]
     },
     "metadata": {},
     "output_type": "display_data"
    }
   ],
   "source": [
    "venn3([set(akker_sub), set(shew1_sub), set(shew2_sub)])"
   ]
  },
  {
   "cell_type": "markdown",
   "metadata": {},
   "source": [
    "## Other pointers\n",
    "\n",
    "[Sourmash: a practical guide](https://sourmash.readthedocs.io/en/latest/using-sourmash-a-guide.html)\n",
    "\n",
    "[Classifying signatures taxonomically](https://sourmash.readthedocs.io/en/latest/classifying-signatures.html)\n",
    "\n",
    "[Pre-built search databases](https://sourmash.readthedocs.io/en/latest/databases.html)\n",
    "\n",
    "## A full list of notebooks\n",
    "\n",
    "[An introduction to k-mers for genome comparison and analysis](kmers-and-minhash.ipynb)\n",
    "\n",
    "[Some sourmash command line examples!](sourmash-examples.ipynb)\n",
    "\n",
    "[Working with private collections of signatures.](sourmash-collections.ipynb)\n",
    "\n",
    "[Using the LCA_Database API.](using-LCA-database-API.ipynb)\n"
   ]
  },
  {
   "cell_type": "code",
   "execution_count": null,
   "metadata": {},
   "outputs": [],
   "source": []
  }
 ],
 "metadata": {
  "kernelspec": {
   "display_name": "Python 3",
   "language": "python",
   "name": "python3"
  },
  "language_info": {
   "codemirror_mode": {
    "name": "ipython",
    "version": 3
   },
   "file_extension": ".py",
   "mimetype": "text/x-python",
   "name": "python",
   "nbconvert_exporter": "python",
   "pygments_lexer": "ipython3",
   "version": "3.6.7"
  }
 },
 "nbformat": 4,
 "nbformat_minor": 2
}
