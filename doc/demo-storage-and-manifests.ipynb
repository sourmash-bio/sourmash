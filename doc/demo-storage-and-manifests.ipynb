{
 "cells": [
  {
   "cell_type": "markdown",
   "metadata": {},
   "source": [
    "# Demonstration of `Storage` class and manifests\n",
    "\n",
    "The `Storage` class supports generic saving/loading from (among other things) direct file system access and zip files. We use this to support `ZipFileLinearIndex` and SBT databases, in particular; note that SBTs can be loaded both from file systems and zip files, as well as (with a bit more work) IPFS and Redis databases.\n",
    "\n",
    "Manifests store metadata about the signatures that are available in a particular storage. They are used to support selectors, picklists, and fast/direct loading of specific signatures. The important part for `Storage` use is that each manifest row contains an `internal_location` that can be used to directly load a signature upon request.\n",
    "\n",
    "(There are also IPFS and Redis-based storage classes that we don't show below, as they require other packages to be installed as well as some services.)"
   ]
  },
  {
   "cell_type": "code",
   "execution_count": 1,
   "metadata": {},
   "outputs": [],
   "source": [
    "import shutil, os\n",
    "from io import StringIO\n",
    "\n",
    "import sourmash\n",
    "from sourmash.sbt_storage import FSStorage, ZipStorage\n",
    "from sourmash.manifest import CollectionManifest\n",
    "from sourmash.signature import load_signatures\n",
    "\n",
    "from sourmash.sourmash_args import SaveSignaturesToLocation"
   ]
  },
  {
   "cell_type": "code",
   "execution_count": 2,
   "metadata": {},
   "outputs": [],
   "source": [
    "# load some demo signatures\n",
    "sig1 = sourmash.load_one_signature('akkermansia.fa.sig', ksize=31)\n",
    "sig2 = sourmash.load_one_signature('shew_os185.fa.sig', ksize=31)\n",
    "sig3 = sourmash.load_one_signature('shew_os223.fa.sig', ksize=31)"
   ]
  },
  {
   "cell_type": "code",
   "execution_count": 3,
   "metadata": {},
   "outputs": [],
   "source": [
    "# define some functions to (1) save signatures into storage, and (2) save manifest into storage\n",
    "\n",
    "# CTB notes:\n",
    "# * could add a Storage.save_sig just like this function...\n",
    "# * could also add a manifest getter/setter to load manifest from stock location\n",
    "# * ZipStorage.save has a 'compress' argument that we should pull up to base class\n",
    "\n",
    "def save_sig(storage, sig_obj):\n",
    "    data = sourmash.save_signatures([sig_obj], compression=1)\n",
    "    filename = f\"{sig_obj.md5sum()}.sig.gz\"\n",
    "\n",
    "    internal_path = storage.save(filename, data)\n",
    "    return internal_path\n",
    "\n",
    "def save_manifest(storage, manifest_rows):\n",
    "    manifest = CollectionManifest(manifest_rows)\n",
    "    manifest_name = f\"SOURMASH-MANIFEST.csv\"\n",
    "\n",
    "    manifest_fp = StringIO()\n",
    "    manifest.write_to_csv(manifest_fp, write_header=True)\n",
    "    manifest_data = manifest_fp.getvalue().encode(\"utf-8\")\n",
    "\n",
    "    # CTB note: in sourmash, we usually use 'compress=True' when this is a ZipStorage\n",
    "    storage.save(manifest_name, manifest_data, overwrite=True)\n",
    "    \n",
    "    storage.flush()"
   ]
  },
  {
   "cell_type": "code",
   "execution_count": 4,
   "metadata": {},
   "outputs": [
    {
     "name": "stdout",
     "output_type": "stream",
     "text": [
      "saved 'CP001071.1 Akkermansia mucinip...' to /tmp/fs-example/6822e0b7f2b21030699fbb98c698e71c.sig.gz\n",
      "saved 'CP001071.1 Akkermansia mucinip...' to /tmp/fs-example/b47b13ef3781433fc3531fd502f723a4.sig.gz\n",
      "saved 'CP001071.1 Akkermansia mucinip...' to /tmp/fs-example/ae6659f6804482c9d5e739e554a48563.sig.gz\n"
     ]
    }
   ],
   "source": [
    "shutil.rmtree('/tmp/fs-example', ignore_errors=True)\n",
    "# here, the 'location' is the root directory, 'subdir' is a\n",
    "# subdirectory with content entirely under FSStorage control.\n",
    "fs_store = FSStorage(location='/tmp', subdir='fs-example')\n",
    "\n",
    "# this is used only for presentation purposes to show the final file name.\n",
    "fullpath = os.path.join(fs_store.location, fs_store.subdir)\n",
    "\n",
    "#\n",
    "# for each signature, save into storage and build a manifest row, too.\n",
    "#\n",
    "\n",
    "internal_path = save_sig(fs_store, sig1)\n",
    "manifest_row1 = CollectionManifest.make_manifest_row(sig1, internal_path)\n",
    "print(f\"saved '{str(sig1)[:30]}...' to {fullpath}/{internal_path}\")\n",
    "\n",
    "internal_path = save_sig(fs_store, sig2)\n",
    "manifest_row2 = CollectionManifest.make_manifest_row(sig2, internal_path)\n",
    "print(f\"saved '{str(sig1)[:30]}...' to {fullpath}/{internal_path}\")\n",
    "\n",
    "internal_path = save_sig(fs_store, sig3)\n",
    "manifest_row3 = CollectionManifest.make_manifest_row(sig3, internal_path)\n",
    "print(f\"saved '{str(sig1)[:30]}...' to {fullpath}/{internal_path}\")\n",
    "\n",
    "# save manifest:\n",
    "save_manifest(fs_store, [manifest_row1, manifest_row2, manifest_row3])"
   ]
  },
  {
   "cell_type": "code",
   "execution_count": 5,
   "metadata": {},
   "outputs": [
    {
     "name": "stdout",
     "output_type": "stream",
     "text": [
      "saved 'CP001071.1 Akkermansia mucinip...' to /tmp/zip-store.zip:6822e0b7f2b21030699fbb98c698e71c.sig.gz\n",
      "saved 'CP001071.1 Akkermansia mucinip...' to /tmp/zip-store.zip:b47b13ef3781433fc3531fd502f723a4.sig.gz\n",
      "saved 'CP001071.1 Akkermansia mucinip...' to /tmp/zip-store.zip:ae6659f6804482c9d5e739e554a48563.sig.gz\n"
     ]
    }
   ],
   "source": [
    "try:\n",
    "    os.remove('/tmp/zip-store.zip')\n",
    "except FileNotFoundError:\n",
    "    pass\n",
    "\n",
    "zip_store = ZipStorage('/tmp/zip-store.zip')\n",
    "\n",
    "internal_path = save_sig(zip_store, sig1)\n",
    "print(f\"saved '{str(sig1)[:30]}...' to {zip_store.path}:{internal_path}\")\n",
    "manifest_row1 = CollectionManifest.make_manifest_row(sig1, internal_path)\n",
    "\n",
    "\n",
    "internal_path = save_sig(zip_store, sig2)\n",
    "manifest_row2 = CollectionManifest.make_manifest_row(sig2, internal_path)\n",
    "print(f\"saved '{str(sig1)[:30]}...' to {zip_store.path}:{internal_path}\")\n",
    "\n",
    "\n",
    "internal_path = save_sig(zip_store, sig3)\n",
    "manifest_row3 = CollectionManifest.make_manifest_row(sig3, internal_path)\n",
    "print(f\"saved '{str(sig1)[:30]}...' to {zip_store.path}:{internal_path}\")\n",
    "\n",
    "save_manifest(zip_store, [manifest_row1, manifest_row2, manifest_row3])"
   ]
  },
  {
   "cell_type": "code",
   "execution_count": 6,
   "metadata": {},
   "outputs": [
    {
     "name": "stdout",
     "output_type": "stream",
     "text": [
      "loading from zip store:\n",
      "CP001071.1 Akkermansia mucinip...\n",
      "NC_009665.1 Shewanella baltica...\n",
      "NC_011663.1 Shewanella baltica...\n",
      "---\n",
      "loading from fs store:\n",
      "CP001071.1 Akkermansia mucinip...\n",
      "NC_009665.1 Shewanella baltica...\n",
      "NC_011663.1 Shewanella baltica...\n"
     ]
    }
   ],
   "source": [
    "# now demonstrate loading all of the signatures in the manifest.\n",
    "\n",
    "def load_sigs(storage):\n",
    "    # load manifest and all sigs in manifest\n",
    "    manifest = CollectionManifest.load_from_storage(storage)\n",
    "    \n",
    "    for loc in manifest.locations():\n",
    "        sig_data = storage.load(loc)\n",
    "        for sig_obj in load_signatures(sig_data):\n",
    "            yield sig_obj\n",
    "            \n",
    "print('loading from zip store:')\n",
    "for sig_obj in load_sigs(zip_store):\n",
    "    print(sig_obj.name[:30] + '...')\n",
    "    \n",
    "print('---')\n",
    "print('loading from fs store:')\n",
    "for sig_obj in load_sigs(fs_store):\n",
    "    print(sig_obj.name[:30] + '...')"
   ]
  },
  {
   "cell_type": "markdown",
   "metadata": {},
   "source": [
    "## What we achieved here by using `Storage`\n",
    "\n",
    "Both `Storage` objects have a manifest that can be loaded from a canonical location, `SOURMASH-MANIFEST.csv`.\n",
    "\n",
    "The manifest contains full signature metadata that can be used to select, iterate, etc over all signatures.\n",
    "\n",
    "The `SOURMASH-MANIFEST.csv` contains the `internal_location` where each signature is stored within the `Storage` object, and this path can be used to directly load that signature.\n",
    "\n",
    "Once each `Storage` class is instantiated, the `save` and `load` methods function identically, independent of the specific class being used.\n",
    "\n",
    "This means that signature and manifest saving and loading can be done with the same API.\n",
    "\n",
    "As fun additional features, note that:\n",
    "* in this case the manifest files are identical, which doesn't really matter, but is a nice happenstance\n",
    "* with only a little trickiness around instantiating the Storage class, you can unzip the zipfile into its own directory and then use `FSStorage` to access it - all the manifest paths etc will work since they are relative."
   ]
  },
  {
   "cell_type": "markdown",
   "metadata": {},
   "source": [
    "## Using `SaveSignaturesToLocation` instead\n",
    "\n",
    "For Reasons, we also provide a separate signature saving API in `sourmash_args.SaveSignaturesToLocation`.\n",
    "\n",
    "This is a somewhat higher-level API that supports a few different output formats, including directories and zip stores as well as .sig files; it's intended to be more user-friendly.\n",
    "\n",
    "See below for usage."
   ]
  },
  {
   "cell_type": "code",
   "execution_count": 7,
   "metadata": {},
   "outputs": [
    {
     "name": "stdout",
     "output_type": "stream",
     "text": [
      "saved 3 signatures to /tmp/fs-example2/\n",
      "saved 3 signatures to /tmp/zip-store2.zip\n"
     ]
    }
   ],
   "source": [
    "shutil.rmtree('/tmp/fs-example2', ignore_errors=True)\n",
    "try:\n",
    "    os.remove('/tmp/zip-store2.zip')\n",
    "except FileNotFoundError:\n",
    "    pass\n",
    "\n",
    "# note that this does not create a manifest\n",
    "with SaveSignaturesToLocation('/tmp/fs-example2/') as savesig:\n",
    "    savesig.add(sig1)\n",
    "    savesig.add(sig2)\n",
    "    savesig.add(sig3)\n",
    "    \n",
    "    print(f\"saved {len(savesig)} signatures to {savesig.location}\")\n",
    "    \n",
    "# this _does_ create a manifest\n",
    "with SaveSignaturesToLocation('/tmp/zip-store2.zip') as savesig:\n",
    "    savesig.add(sig1)\n",
    "    savesig.add(sig2)\n",
    "    savesig.add(sig3)\n",
    "    \n",
    "    print(f\"saved {len(savesig)} signatures to {savesig.location}\")"
   ]
  },
  {
   "cell_type": "code",
   "execution_count": 8,
   "metadata": {},
   "outputs": [
    {
     "name": "stdout",
     "output_type": "stream",
     "text": [
      "loading from zip store 2:\n",
      "CP001071.1 Akkermansia mucinip...\n",
      "NC_009665.1 Shewanella baltica...\n",
      "NC_011663.1 Shewanella baltica...\n",
      "---\n",
      "loading from file system/directory, round 2:\n",
      "CP001071.1 Akkermansia mucinip...\n",
      "NC_011663.1 Shewanella baltica...\n",
      "NC_009665.1 Shewanella baltica...\n"
     ]
    }
   ],
   "source": [
    "print('loading from zip store 2:')\n",
    "for sig_obj in sourmash.load_file_as_signatures('/tmp/zip-store2.zip'):\n",
    "    print(sig_obj.name[:30] + '...')\n",
    "    \n",
    "print('---')\n",
    "print('loading from file system/directory, round 2:')\n",
    "for sig_obj in sourmash.load_file_as_signatures('/tmp/fs-example2'):\n",
    "    print(sig_obj.name[:30] + '...')"
   ]
  },
  {
   "cell_type": "code",
   "execution_count": null,
   "metadata": {},
   "outputs": [],
   "source": []
  }
 ],
 "metadata": {
  "kernelspec": {
   "display_name": "Python (myenv)",
   "language": "python",
   "name": "myenv"
  },
  "language_info": {
   "codemirror_mode": {
    "name": "ipython",
    "version": 3
   },
   "file_extension": ".py",
   "mimetype": "text/x-python",
   "name": "python",
   "nbconvert_exporter": "python",
   "pygments_lexer": "ipython3",
   "version": "3.7.6"
  }
 },
 "nbformat": 4,
 "nbformat_minor": 4
}
